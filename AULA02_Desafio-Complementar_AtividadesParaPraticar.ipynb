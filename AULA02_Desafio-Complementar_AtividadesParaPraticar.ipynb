{
 "cells": [
  {
   "cell_type": "markdown",
   "metadata": {},
   "source": [
    "ATIVIDADE 01=> Escreva um programa em Python que calcule o IMC (Índice de Massa Corporal) de uma pessoa. O programa deve solicitar ao usuário o peso em kg e a altura em metros, e em seguida, calcular e imprimir o valor do IMC."
   ]
  },
  {
   "cell_type": "code",
   "execution_count": 5,
   "metadata": {},
   "outputs": [
    {
     "name": "stdout",
     "output_type": "stream",
     "text": [
      "Seu IMC é: 30.86\n"
     ]
    }
   ],
   "source": [
    "\n",
    "peso = float(input(\"Digite o seu peso em kg: \"))\n",
    "altura = float(input(\"Digite a sua altura em metros: \"))\n",
    "\n",
    "imc = peso / (altura ** 2)\n",
    "\n",
    "print(\"Seu IMC é: {:.2f}\".format(imc))\n"
   ]
  },
  {
   "cell_type": "markdown",
   "metadata": {},
   "source": [
    "ATIVIDADE 02 => Faça um programa que crie uma lista vazia e permita que o usuário insira 5 números inteiros na lista."
   ]
  },
  {
   "cell_type": "code",
   "execution_count": 6,
   "metadata": {},
   "outputs": [
    {
     "name": "stdout",
     "output_type": "stream",
     "text": [
      "A lista de números inseridos é: [1, 1, 1, 1, 1]\n"
     ]
    }
   ],
   "source": [
    "\n",
    "lista_numeros = []\n",
    "\n",
    "for i in range(5):\n",
    "    numero = int(input(\"Digite um número inteiro: \"))\n",
    "    lista_numeros.append(numero)\n",
    "\n",
    "\n",
    "print(\"A lista de números inseridos é:\", lista_numeros)\n"
   ]
  },
  {
   "cell_type": "markdown",
   "metadata": {},
   "source": [
    "ATIVIDADE 03=> Faça um programa que peça ao usuário para digitar uma lista de nomes separados por vírgula e transforme essa lista em uma lista de strings."
   ]
  },
  {
   "cell_type": "code",
   "execution_count": null,
   "metadata": {},
   "outputs": [
    {
     "name": "stdout",
     "output_type": "stream",
     "text": [
      "Lista de nomes: ['André', 'Helen', 'Mariana', 'Victor']\n"
     ]
    }
   ],
   "source": [
    "\n",
    "nomes = input(\"Digite uma lista de nomes separados por vírgula: \")\n",
    "\n",
    "lista_nomes = nomes.split(',')\n",
    "\n",
    "lista_nomes = [nome.strip() for nome in lista_nomes]\n",
    "\n",
    "\n",
    "print(\"Lista de nomes:\", lista_nomes)\n"
   ]
  }
 ],
 "metadata": {
  "kernelspec": {
   "display_name": "Python 3",
   "language": "python",
   "name": "python3"
  },
  "language_info": {
   "codemirror_mode": {
    "name": "ipython",
    "version": 3
   },
   "file_extension": ".py",
   "mimetype": "text/x-python",
   "name": "python",
   "nbconvert_exporter": "python",
   "pygments_lexer": "ipython3",
   "version": "3.12.1"
  }
 },
 "nbformat": 4,
 "nbformat_minor": 2
}
