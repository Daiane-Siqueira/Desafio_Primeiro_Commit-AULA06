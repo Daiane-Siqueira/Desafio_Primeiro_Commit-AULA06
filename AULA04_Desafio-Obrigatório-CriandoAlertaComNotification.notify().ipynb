{
 "cells": [
  {
   "cell_type": "markdown",
   "metadata": {},
   "source": [
    "Desafio Obrigatório - AULA 04 | Criando um alerta com notification.notify()"
   ]
  },
  {
   "cell_type": "code",
   "execution_count": 9,
   "metadata": {},
   "outputs": [
    {
     "name": "stdout",
     "output_type": "stream",
     "text": [
      "Collecting plyer\n",
      "  Downloading plyer-2.1.0-py2.py3-none-any.whl (142 kB)\n",
      "     ---------------------------------------- 0.0/142.3 kB ? eta -:--:--\n",
      "     -------- ------------------------------ 30.7/142.3 kB 1.3 MB/s eta 0:00:01\n",
      "     ---------- -------------------------- 41.0/142.3 kB 653.6 kB/s eta 0:00:01\n",
      "     ---------------------------- ------- 112.6/142.3 kB 930.9 kB/s eta 0:00:01\n",
      "     ------------------------------------ 142.3/142.3 kB 936.4 kB/s eta 0:00:00\n",
      "Installing collected packages: plyer\n",
      "Successfully installed plyer-2.1.0\n",
      "Note: you may need to restart the kernel to use updated packages.\n"
     ]
    },
    {
     "name": "stderr",
     "output_type": "stream",
     "text": [
      "\n",
      "[notice] A new release of pip is available: 23.2.1 -> 23.3.2\n",
      "[notice] To update, run: python.exe -m pip install --upgrade pip\n"
     ]
    }
   ],
   "source": [
    "pip install plyer\n"
   ]
  },
  {
   "cell_type": "code",
   "execution_count": null,
   "metadata": {},
   "outputs": [],
   "source": [
    "from datetime import datetime\n",
    "from plyer import notification\n",
    "\n",
    "def alerta(nivel, base, etapa):\n",
    "    if nivel == 1:\n",
    "        titulo = \"ATENÇÃO: Alerta Baixo\"\n",
    "    elif nivel == 2:\n",
    "        titulo = \"ATENÇÃO: Alerta Médio\"\n",
    "    elif nivel == 3:\n",
    "        titulo = \"ATENÇÃO: Alerta Alto\"\n",
    "    else:\n",
    "        titulo = \"Nível de alerta não reconhecido\"\n",
    "\n",
    "    data_hora_atual = datetime.now().strftime('%Y-%m-%d %H:%M:%S')\n",
    "\n",
    "    mensagem = f\"Falha no carregamento da base {base} na etapa {etapa}\\nData e Hora: {data_hora_atual}\"\n",
    "\n",
    "    notification.notify(\n",
    "        title=titulo,\n",
    "        message=mensagem,\n",
    "        app_name='NOTIFICACAO',\n",
    "        timeout=10\n",
    "    )\n",
    "\n",
    "alerta(2, \"CLIENTES\", \"EXTRAÇÃO\")\n"
   ]
  }
 ],
 "metadata": {
  "kernelspec": {
   "display_name": "Python 3",
   "language": "python",
   "name": "python3"
  },
  "language_info": {
   "codemirror_mode": {
    "name": "ipython",
    "version": 3
   },
   "file_extension": ".py",
   "mimetype": "text/x-python",
   "name": "python",
   "nbconvert_exporter": "python",
   "pygments_lexer": "ipython3",
   "version": "3.12.1"
  }
 },
 "nbformat": 4,
 "nbformat_minor": 2
}
